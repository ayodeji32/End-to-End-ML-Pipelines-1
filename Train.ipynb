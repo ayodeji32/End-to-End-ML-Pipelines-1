{
 "cells": [
  {
   "cell_type": "markdown",
   "id": "5d3e6aff",
   "metadata": {},
   "source": [
    "# Train Model in Pipeline"
   ]
  },
  {
   "cell_type": "markdown",
   "id": "6a089503",
   "metadata": {},
   "source": [
    "This script allows the user to deploy a configured Training Pipeline to train a model based on a selected machine learning algorithm and logs the model in mlflow using the mlflow sqlite:///mlflow.db as the back end local store for model tracking and model registry. Model staging and versioning is done inside mlflow via API or UI. The make_predictions.ipynb and deploy_model.sh files allow user to deploy a model locally as a REST endpoint.\n",
    "\n",
    "Note: The pipeline preprocessing steps are explicitly demonstrated in the EDA Notebook.ipynb file."
   ]
  },
  {
   "cell_type": "markdown",
   "id": "85702023",
   "metadata": {},
   "source": [
    "### Import Necessary Packages & Modules"
   ]
  },
  {
   "cell_type": "code",
   "execution_count": 12,
   "id": "e84442c5",
   "metadata": {},
   "outputs": [],
   "source": [
    "# data manipulation\n",
    "import pandas as pd\n",
    "import numpy as np\n",
    "import time\n",
    "import os\n",
    "import joblib\n",
    "\n",
    "# from Scikit-learn import train_test_split to split the Train data into traion and test (validation) sets\n",
    "from sklearn.model_selection import train_test_split\n",
    "\n",
    "# from Keras to build keras classifier model\n",
    "from keras.models import Sequential\n",
    "from keras.layers import Dense\n",
    "from tensorflow import keras\n",
    "from keras.wrappers.scikit_learn import KerasClassifier\n",
    "from sklearn.model_selection import cross_val_score\n",
    "from sklearn.model_selection import KFold\n",
    "from sklearn.model_selection import GridSearchCV, RandomizedSearchCV\n",
    "\n",
    "# from Scikit-learn to build RandomForest Model\n",
    "from sklearn.ensemble import RandomForestClassifier\n",
    "from sklearn.multiclass import OneVsRestClassifier\n",
    "\n",
    "\n",
    "#import mlflow\n",
    "\n",
    "# The configuration script initializes the Data Preprocessing & Feature Engineering \n",
    "# Pipepline\n",
    "# It returns the list of Model Features and the Pipeline Preprocessing steps\n",
    "from pipeline_configuration import pipe_configuration \n",
    "\n",
    "\n",
    "# The intent is to separate Algorithm Configuration from this main Train.ipynb file\n",
    "# but this part is not complete yet.\n",
    "# So, commenting out. Algorithm configuration is done inside this script for now!\n",
    "from model_config.KerasClassifier_Config import KerasClassifierModel\n",
    "from model_config.RandomForestClassifier_Config import RandomForestClassifierModel\n",
    "\n",
    "# The TrainingPipeline Class inherits from Sckit-learn Pipeline and performs the \n",
    "# last step (model.fit()) \n",
    "# in the Training Piepline. It also uses the mlflow context to log model metrics, \n",
    "# parameters and artifacts to mlflow. The mlflow sqlite:///mlflow.db is used as \n",
    "# the local store for tracking and registery.\n",
    "from training_pipeline import TrainingPipeline\n"
   ]
  },
  {
   "cell_type": "code",
   "execution_count": 13,
   "id": "843342cc",
   "metadata": {},
   "outputs": [],
   "source": [
    "# Get list of Model Features and the Pipeline Preprocessing steps\n",
    "FEATURES, PIPESTEPS = pipe_configuration()\n",
    "\n",
    "# Set random state to be able to reproduce the results of the \n",
    "# research environment (EDA Notebook)\n",
    "random_state = 35"
   ]
  },
  {
   "cell_type": "code",
   "execution_count": 14,
   "id": "95a1ae08",
   "metadata": {},
   "outputs": [],
   "source": [
    "# Specify training algorithm. Current options supported are \n",
    "# [\"RandomForestClassifier\", \"KerasClassifier\"]\n",
    "training_algo = \"RandomForestClassifier\" #  \"KerasClassifier\" \n",
    "\n",
    "# Specify if performing Hyper Parameter tuning or not. If set to True, a \n",
    "# RandomizedSearch is performed using parametrs \n",
    "# supplied by the user and a final model is trained & logged based on the best \n",
    "# parameters found.\n",
    "hyper_parameter_tuning = False"
   ]
  },
  {
   "cell_type": "markdown",
   "id": "034d6418",
   "metadata": {},
   "source": [
    "### Import Train Data and Split into Train & Test for Model Development"
   ]
  },
  {
   "cell_type": "code",
   "execution_count": 15,
   "id": "e9ad7785",
   "metadata": {},
   "outputs": [
    {
     "name": "stdout",
     "output_type": "stream",
     "text": [
      "Shape of Imported Train Data: (8068, 10)\n",
      "=========================================================\n",
      "======================= X_train Data ====================\n",
      "      Gender Ever_Married  Age Graduated  Profession  Work_Experience  \\\n",
      "1201    Male          Yes   30       Yes  Healthcare              NaN   \n",
      "2937  Female          Yes   51        No    Engineer              NaN   \n",
      "943     Male          Yes   88       Yes      Lawyer              NaN   \n",
      "3277  Female           No   42       Yes      Artist              1.0   \n",
      "676   Female          Yes   46       Yes      Artist              1.0   \n",
      "\n",
      "     Spending_Score  Family_Size  Var_1  \n",
      "1201            Low          6.0  Cat_6  \n",
      "2937        Average          3.0  Cat_4  \n",
      "943             Low          NaN  Cat_6  \n",
      "3277            Low          2.0  Cat_6  \n",
      "676         Average          2.0  Cat_6  \n",
      "=========================================================\n",
      "======================= X_test Data ====================\n",
      "      Gender Ever_Married  Age Graduated     Profession  Work_Experience  \\\n",
      "368   Female           No   18        No     Healthcare              9.0   \n",
      "511   Female          Yes   37       Yes  Entertainment              0.0   \n",
      "2383    Male          Yes   38       Yes         Artist              0.0   \n",
      "1584    Male          Yes   53       Yes         Artist              0.0   \n",
      "3121  Female          Yes   32        No            NaN              8.0   \n",
      "\n",
      "     Spending_Score  Family_Size  Var_1  \n",
      "368             Low          5.0  Cat_4  \n",
      "511         Average          2.0  Cat_1  \n",
      "2383            Low          2.0  Cat_6  \n",
      "1584           High          3.0  Cat_6  \n",
      "3121            Low          1.0  Cat_6  \n"
     ]
    }
   ],
   "source": [
    "# load Train dataset\n",
    "Train_data = pd.read_csv('./Data/Train.csv')\n",
    "\n",
    "Train_data.drop('ID',inplace=True, axis=1)\n",
    "\n",
    "# Get the unique Segmentation Labels\n",
    "segmentation_labels = np.sort(Train_data['Segmentation'].unique())\n",
    "\n",
    "\n",
    "X_train, X_test, y_train, y_test = train_test_split(Train_data[FEATURES], \n",
    "                                                    Train_data['Segmentation'], \n",
    "                                                    test_size=0.2, \n",
    "                                                    random_state=random_state) \n",
    "\n",
    "#X_train = Train_data[FEATURES]\n",
    "\n",
    "# rows and columns of the train data\n",
    "print('Shape of Imported Train Data: {}'.format(Train_data.shape))\n",
    "print('=========================================================')\n",
    "print('======================= X_train Data ====================')\n",
    "print(X_train.head())\n",
    "print('=========================================================')\n",
    "print('======================= X_test Data ====================')\n",
    "print(X_test.head())"
   ]
  },
  {
   "cell_type": "markdown",
   "id": "c5cd9b73",
   "metadata": {},
   "source": [
    "### Configure Model for Training Based on Selected Algorithm"
   ]
  },
  {
   "cell_type": "code",
   "execution_count": 16,
   "id": "0893769b",
   "metadata": {},
   "outputs": [],
   "source": [
    "if training_algo == \"KerasClassifier\":\n",
    "    # define baseline model\n",
    "    def keras_model():\n",
    "        # create model\n",
    "        model = Sequential()\n",
    "        model.add(Dense(hidden_neurons, input_dim=len(FEATURES), \n",
    "                        activation=hidden_activation))\n",
    "        model.add(Dense(output_neurons, activation=output_activation))\n",
    "        # Compile model\n",
    "        model.compile(loss='categorical_crossentropy', \n",
    "                      optimizer=keras.optimizers.Adam(learning_rate=learning_rate), \n",
    "                      metrics=['accuracy'])\n",
    "        return model\n",
    "    \n",
    "    if hyper_parameter_tuning:\n",
    "        \n",
    "        # Parameters to search\n",
    "        hidden_neurons = 500\n",
    "        epochs = [10, 25]\n",
    "        batch_size = [500, 1000]\n",
    "        \n",
    "        # Parameters to leave constant\n",
    "        hidden_activation = 'relu'\n",
    "        output_activation = 'softmax'\n",
    "        #optimizer = 'adam'\n",
    "        output_neurons = len(segmentation_labels)\n",
    "        \n",
    "        param_grid = {\n",
    "                      'epochs': epochs,\n",
    "                      'batch_size': batch_size} #'units':hidden_neurons,\n",
    "        \n",
    "        classifier = KerasClassifier(build_fn=keras_model(), \n",
    "                                     epochs=epochs, \n",
    "                                     batch_size=batch_size, \n",
    "                                     verbose=1)\n",
    "        \n",
    "        estimator_model = RandomizedSearchCV(estimator = classifier, \n",
    "                                             param_distributions = param_grid,\n",
    "                                               cv = 10, verbose=2, \n",
    "                                             random_state=random_state, \n",
    "                                             n_jobs = -1)\n",
    "        \n",
    "    else:\n",
    "        \n",
    "        hidden_neurons = 1000\n",
    "        hidden_activation = 'relu'\n",
    "        output_neurons = len(segmentation_labels)\n",
    "        output_activation = 'softmax'\n",
    "        epochs = 10\n",
    "        batch_size = 8000\n",
    "        learning_rate = 0.0001\n",
    "\n",
    "        estimator_model = KerasClassifier(build_fn=keras_model, \n",
    "                                          epochs=epochs, \n",
    "                                          batch_size=batch_size, \n",
    "                                          verbose=1)\n",
    "\n",
    "    \n",
    "    # Make a list of Parameters to log in Mlflow\n",
    "    run_parameters = {'hidden_neurons':hidden_neurons,\n",
    "                      'hidden_activation': hidden_activation,\n",
    "                      'output_neurons': output_neurons,\n",
    "                      'output_activation': output_activation,\n",
    "                      'epochs': epochs,\n",
    "                      'batch_size': batch_size,\n",
    "                     'learning_rate': learning_rate}\n",
    "    \n",
    "    \n",
    "    # Adding the last step in the training Pipeline\n",
    "    _, PIPESTEPS = configuration()\n",
    "    PIPESTEPS.append(('estimator',estimator_model))  \n"
   ]
  },
  {
   "cell_type": "code",
   "execution_count": 17,
   "id": "7572cb4e",
   "metadata": {},
   "outputs": [],
   "source": [
    "if training_algo == \"RandomForestClassifier\":\n",
    "    \n",
    "    random_state = random_state # for reproducibility\n",
    "    \n",
    "    if hyper_parameter_tuning:\n",
    "        # define random parameters grid\n",
    "        n_estimators = [5,21,51,101,400] # number of trees in the random forest\n",
    "        max_features = ['auto', 'sqrt'] # number of features in consideration at every split\n",
    "        max_depth = [int(x) for x in np.linspace(10, 120, num = 12)] # maximum number of levels allowed in each decision tree\n",
    "        min_samples_split = [2, 6, 10] # minimum sample number to split a node\n",
    "        min_samples_leaf = [1, 3, 4] # minimum sample number that can be stored in a leaf node\n",
    "        bootstrap = [True, False] # method used to sample data points\n",
    "        \n",
    "        # keys need formatting due to nested estimators inside a \n",
    "        # RandomizedSearchCV function\n",
    "        param_grid = {'estimator__n_estimators': n_estimators,\n",
    "                        'estimator__max_features': max_features,\n",
    "                        'estimator__max_depth': max_depth,\n",
    "                        'estimator__min_samples_split': min_samples_split,\n",
    "                        'estimator__min_samples_leaf': min_samples_leaf,\n",
    "                        'estimator__bootstrap': bootstrap\n",
    "                      }\n",
    "        \n",
    "        classifier = OneVsRestClassifier(\n",
    "                                        RandomForestClassifier(random_state=random_state)\n",
    "                                        )\n",
    "        estimator_model = RandomizedSearchCV(\n",
    "                                    estimator = classifier, \n",
    "                                    param_distributions = param_grid,\n",
    "                                   n_iter = 5, cv = 5, verbose=2, \n",
    "                                    random_state=random_state, n_jobs = -1)\n",
    "        \n",
    "        run_parameters = {}  # List of run_parameters will come from the best parameters found \n",
    "    \n",
    "    else:\n",
    "        \n",
    "        n_estimators = 400 \n",
    "        max_features = 'auto'\n",
    "        max_depth = 120 \n",
    "        min_samples_split = 10\n",
    "        min_samples_leaf = 4\n",
    "        bootstrap = False\n",
    "        \n",
    "#         estimator_model = OneVsRestClassifier(\n",
    "#                                 RandomForestClassifier(n_estimators = n_estimators, \n",
    "#                                                        min_samples_split = min_samples_split,\n",
    "#                                                         min_samples_leaf= min_samples_leaf, \n",
    "#                                                        max_features = max_features,\n",
    "#                                                      max_depth= max_depth, \n",
    "#                                                        bootstrap=bootstrap,\n",
    "#                                                        random_state=random_state)\n",
    "#                                                         )\n",
    "\n",
    "        # Validation - Using default parameters here to \n",
    "        #compare model performance on Test data with EDA Notebook\n",
    "        estimator_model = OneVsRestClassifier(\n",
    "                                        RandomForestClassifier(random_state=random_state)\n",
    "                                        )\n",
    "    \n",
    "        # Make a list of Parameters to log in Mlflow\n",
    "        run_parameters = {'n_estimators':n_estimators,\n",
    "                          'max_features': max_features,\n",
    "                          'max_depth': max_depth,\n",
    "                          'min_samples_split': min_samples_split,\n",
    "                          'min_samples_leaf': min_samples_leaf,\n",
    "                          'bootstrap': bootstrap,\n",
    "                          }\n",
    "    \n",
    "    # Adding the last step in the training Pipeline\n",
    "    _, PIPESTEPS = pipe_configuration()\n",
    "    PIPESTEPS.append(('estimator',estimator_model))  "
   ]
  },
  {
   "cell_type": "markdown",
   "id": "ee8c1099",
   "metadata": {},
   "source": [
    "*Note:* The intention is to wrap each of the above algorithm selection sections into different python files so that they are imported into this script to have a cleaner code. The python files should be located in the model_config folder where the user will input all necessary algorithm training configurations from the python scripts rather than doing it from inside this Train.py file. Below is an unfinished section of code showing how the imported algorithm/model configurations will be used."
   ]
  },
  {
   "cell_type": "code",
   "execution_count": 18,
   "id": "6bfcf36d",
   "metadata": {},
   "outputs": [],
   "source": [
    "# if training_algo == \"KerasClassifier\":\n",
    "#     random_state = 35 # for reproducibility\n",
    "#     KerasModel = KerasClassifierModel(segmentation_labels,FEATURES,random_state)\n",
    "#     if hyper_parameter_tuning:\n",
    "#         #estimator_model, run_parameters \n",
    "#         estimator_model, run_parameters = KerasModel.hyper_parameter_tuning()\n",
    "#     else:\n",
    "#         estimator_model, run_parameters = KerasModel.build_base_model()\n",
    "#     # Adding the last step in the training Pipeline\n",
    "#     _, PIPESTEPS = configuration()\n",
    "#     PIPESTEPS.append(('estimator',estimator_model)) "
   ]
  },
  {
   "cell_type": "markdown",
   "id": "4fd119b6",
   "metadata": {},
   "source": [
    "### Train Model"
   ]
  },
  {
   "cell_type": "code",
   "execution_count": 19,
   "id": "cc1eca5f",
   "metadata": {},
   "outputs": [
    {
     "name": "stdout",
     "output_type": "stream",
     "text": [
      "Train-Run-Sat-Sep-24-14:39:19-2022\n"
     ]
    }
   ],
   "source": [
    "# Create a naming convention for experiment runs to be logged in mlflow.\n",
    "# These information is passed to the TrainingPipeline Class \n",
    "# where the model logging into mlflow takes place.\n",
    "clock_time = time.ctime().replace(' ', '-')\n",
    "experiment_name = 'Exxon_Model'\n",
    "run_name = 'Train-Run-' + clock_time\n",
    "print(run_name)"
   ]
  },
  {
   "cell_type": "code",
   "execution_count": 20,
   "id": "2c34df05",
   "metadata": {
    "scrolled": true
   },
   "outputs": [
    {
     "data": {
      "text/html": [
       "<style>#sk-container-id-2 {color: black;background-color: white;}#sk-container-id-2 pre{padding: 0;}#sk-container-id-2 div.sk-toggleable {background-color: white;}#sk-container-id-2 label.sk-toggleable__label {cursor: pointer;display: block;width: 100%;margin-bottom: 0;padding: 0.3em;box-sizing: border-box;text-align: center;}#sk-container-id-2 label.sk-toggleable__label-arrow:before {content: \"▸\";float: left;margin-right: 0.25em;color: #696969;}#sk-container-id-2 label.sk-toggleable__label-arrow:hover:before {color: black;}#sk-container-id-2 div.sk-estimator:hover label.sk-toggleable__label-arrow:before {color: black;}#sk-container-id-2 div.sk-toggleable__content {max-height: 0;max-width: 0;overflow: hidden;text-align: left;background-color: #f0f8ff;}#sk-container-id-2 div.sk-toggleable__content pre {margin: 0.2em;color: black;border-radius: 0.25em;background-color: #f0f8ff;}#sk-container-id-2 input.sk-toggleable__control:checked~div.sk-toggleable__content {max-height: 200px;max-width: 100%;overflow: auto;}#sk-container-id-2 input.sk-toggleable__control:checked~label.sk-toggleable__label-arrow:before {content: \"▾\";}#sk-container-id-2 div.sk-estimator input.sk-toggleable__control:checked~label.sk-toggleable__label {background-color: #d4ebff;}#sk-container-id-2 div.sk-label input.sk-toggleable__control:checked~label.sk-toggleable__label {background-color: #d4ebff;}#sk-container-id-2 input.sk-hidden--visually {border: 0;clip: rect(1px 1px 1px 1px);clip: rect(1px, 1px, 1px, 1px);height: 1px;margin: -1px;overflow: hidden;padding: 0;position: absolute;width: 1px;}#sk-container-id-2 div.sk-estimator {font-family: monospace;background-color: #f0f8ff;border: 1px dotted black;border-radius: 0.25em;box-sizing: border-box;margin-bottom: 0.5em;}#sk-container-id-2 div.sk-estimator:hover {background-color: #d4ebff;}#sk-container-id-2 div.sk-parallel-item::after {content: \"\";width: 100%;border-bottom: 1px solid gray;flex-grow: 1;}#sk-container-id-2 div.sk-label:hover label.sk-toggleable__label {background-color: #d4ebff;}#sk-container-id-2 div.sk-serial::before {content: \"\";position: absolute;border-left: 1px solid gray;box-sizing: border-box;top: 0;bottom: 0;left: 50%;z-index: 0;}#sk-container-id-2 div.sk-serial {display: flex;flex-direction: column;align-items: center;background-color: white;padding-right: 0.2em;padding-left: 0.2em;position: relative;}#sk-container-id-2 div.sk-item {position: relative;z-index: 1;}#sk-container-id-2 div.sk-parallel {display: flex;align-items: stretch;justify-content: center;background-color: white;position: relative;}#sk-container-id-2 div.sk-item::before, #sk-container-id-2 div.sk-parallel-item::before {content: \"\";position: absolute;border-left: 1px solid gray;box-sizing: border-box;top: 0;bottom: 0;left: 50%;z-index: -1;}#sk-container-id-2 div.sk-parallel-item {display: flex;flex-direction: column;z-index: 1;position: relative;background-color: white;}#sk-container-id-2 div.sk-parallel-item:first-child::after {align-self: flex-end;width: 50%;}#sk-container-id-2 div.sk-parallel-item:last-child::after {align-self: flex-start;width: 50%;}#sk-container-id-2 div.sk-parallel-item:only-child::after {width: 0;}#sk-container-id-2 div.sk-dashed-wrapped {border: 1px dashed gray;margin: 0 0.4em 0.5em 0.4em;box-sizing: border-box;padding-bottom: 0.4em;background-color: white;}#sk-container-id-2 div.sk-label label {font-family: monospace;font-weight: bold;display: inline-block;line-height: 1.2em;}#sk-container-id-2 div.sk-label-container {text-align: center;}#sk-container-id-2 div.sk-container {/* jupyter's `normalize.less` sets `[hidden] { display: none; }` but bootstrap.min.css set `[hidden] { display: none !important; }` so we also need the `!important` here to be able to override the default hidden behavior on the sphinx rendered scikit-learn.org. See: https://github.com/scikit-learn/scikit-learn/issues/21755 */display: inline-block !important;position: relative;}#sk-container-id-2 div.sk-text-repr-fallback {display: none;}</style><div id=\"sk-container-id-2\" class=\"sk-top-container\"><div class=\"sk-text-repr-fallback\"><pre>TrainingPipeline(steps=[(&#x27;mean_imputation&#x27;,\n",
       "                         MeanMedianImputer(imputation_method=&#x27;mean&#x27;,\n",
       "                                           variables=[&#x27;Work_Experience&#x27;,\n",
       "                                                      &#x27;Family_Size&#x27;])),\n",
       "                        (&#x27;frequent_imputation&#x27;,\n",
       "                         CategoricalImputer(imputation_method=&#x27;frequent&#x27;,\n",
       "                                            variables=[&#x27;Ever_Married&#x27;,\n",
       "                                                       &#x27;Graduated&#x27;,\n",
       "                                                       &#x27;Profession&#x27;,\n",
       "                                                       &#x27;Var_1&#x27;])),\n",
       "                        (&#x27;binary_encoding&#x27;,\n",
       "                         OneHotEncoder(drop_last_binary=True,\n",
       "                                       variables=[&#x27;Gender&#x27;, &#x27;Ever_Married&#x27;,\n",
       "                                                  &#x27;Graduated&#x27;])),\n",
       "                        (&#x27;countfreq&#x27;,\n",
       "                         CountFrequencyEncoder(encoding_method=&#x27;frequency&#x27;,\n",
       "                                               variables=[&#x27;Profession&#x27;,\n",
       "                                                          &#x27;Var_1&#x27;])),\n",
       "                        (&#x27;mapper_spending_score&#x27;,\n",
       "                         Mapper(mappings={&#x27;Average&#x27;: 2, &#x27;High&#x27;: 3, &#x27;Low&#x27;: 1},\n",
       "                                variables=[&#x27;Spending_Score&#x27;])),\n",
       "                        (&#x27;scaler&#x27;, MinMaxScaler()),\n",
       "                        (&#x27;estimator&#x27;,\n",
       "                         OneVsRestClassifier(estimator=RandomForestClassifier(random_state=35)))])</pre><b>In a Jupyter environment, please rerun this cell to show the HTML representation or trust the notebook. <br />On GitHub, the HTML representation is unable to render, please try loading this page with nbviewer.org.</b></div><div class=\"sk-container\" hidden><div class=\"sk-item sk-dashed-wrapped\"><div class=\"sk-label-container\"><div class=\"sk-label sk-toggleable\"><input class=\"sk-toggleable__control sk-hidden--visually\" id=\"sk-estimator-id-11\" type=\"checkbox\" ><label for=\"sk-estimator-id-11\" class=\"sk-toggleable__label sk-toggleable__label-arrow\">TrainingPipeline</label><div class=\"sk-toggleable__content\"><pre>TrainingPipeline(steps=[(&#x27;mean_imputation&#x27;,\n",
       "                         MeanMedianImputer(imputation_method=&#x27;mean&#x27;,\n",
       "                                           variables=[&#x27;Work_Experience&#x27;,\n",
       "                                                      &#x27;Family_Size&#x27;])),\n",
       "                        (&#x27;frequent_imputation&#x27;,\n",
       "                         CategoricalImputer(imputation_method=&#x27;frequent&#x27;,\n",
       "                                            variables=[&#x27;Ever_Married&#x27;,\n",
       "                                                       &#x27;Graduated&#x27;,\n",
       "                                                       &#x27;Profession&#x27;,\n",
       "                                                       &#x27;Var_1&#x27;])),\n",
       "                        (&#x27;binary_encoding&#x27;,\n",
       "                         OneHotEncoder(drop_last_binary=True,\n",
       "                                       variables=[&#x27;Gender&#x27;, &#x27;Ever_Married&#x27;,\n",
       "                                                  &#x27;Graduated&#x27;])),\n",
       "                        (&#x27;countfreq&#x27;,\n",
       "                         CountFrequencyEncoder(encoding_method=&#x27;frequency&#x27;,\n",
       "                                               variables=[&#x27;Profession&#x27;,\n",
       "                                                          &#x27;Var_1&#x27;])),\n",
       "                        (&#x27;mapper_spending_score&#x27;,\n",
       "                         Mapper(mappings={&#x27;Average&#x27;: 2, &#x27;High&#x27;: 3, &#x27;Low&#x27;: 1},\n",
       "                                variables=[&#x27;Spending_Score&#x27;])),\n",
       "                        (&#x27;scaler&#x27;, MinMaxScaler()),\n",
       "                        (&#x27;estimator&#x27;,\n",
       "                         OneVsRestClassifier(estimator=RandomForestClassifier(random_state=35)))])</pre></div></div></div><div class=\"sk-serial\"><div class=\"sk-item\"><div class=\"sk-estimator sk-toggleable\"><input class=\"sk-toggleable__control sk-hidden--visually\" id=\"sk-estimator-id-12\" type=\"checkbox\" ><label for=\"sk-estimator-id-12\" class=\"sk-toggleable__label sk-toggleable__label-arrow\">MeanMedianImputer</label><div class=\"sk-toggleable__content\"><pre>MeanMedianImputer(imputation_method=&#x27;mean&#x27;,\n",
       "                  variables=[&#x27;Work_Experience&#x27;, &#x27;Family_Size&#x27;])</pre></div></div></div><div class=\"sk-item\"><div class=\"sk-estimator sk-toggleable\"><input class=\"sk-toggleable__control sk-hidden--visually\" id=\"sk-estimator-id-13\" type=\"checkbox\" ><label for=\"sk-estimator-id-13\" class=\"sk-toggleable__label sk-toggleable__label-arrow\">CategoricalImputer</label><div class=\"sk-toggleable__content\"><pre>CategoricalImputer(imputation_method=&#x27;frequent&#x27;,\n",
       "                   variables=[&#x27;Ever_Married&#x27;, &#x27;Graduated&#x27;, &#x27;Profession&#x27;,\n",
       "                              &#x27;Var_1&#x27;])</pre></div></div></div><div class=\"sk-item\"><div class=\"sk-estimator sk-toggleable\"><input class=\"sk-toggleable__control sk-hidden--visually\" id=\"sk-estimator-id-14\" type=\"checkbox\" ><label for=\"sk-estimator-id-14\" class=\"sk-toggleable__label sk-toggleable__label-arrow\">OneHotEncoder</label><div class=\"sk-toggleable__content\"><pre>OneHotEncoder(drop_last_binary=True,\n",
       "              variables=[&#x27;Gender&#x27;, &#x27;Ever_Married&#x27;, &#x27;Graduated&#x27;])</pre></div></div></div><div class=\"sk-item\"><div class=\"sk-estimator sk-toggleable\"><input class=\"sk-toggleable__control sk-hidden--visually\" id=\"sk-estimator-id-15\" type=\"checkbox\" ><label for=\"sk-estimator-id-15\" class=\"sk-toggleable__label sk-toggleable__label-arrow\">CountFrequencyEncoder</label><div class=\"sk-toggleable__content\"><pre>CountFrequencyEncoder(encoding_method=&#x27;frequency&#x27;,\n",
       "                      variables=[&#x27;Profession&#x27;, &#x27;Var_1&#x27;])</pre></div></div></div><div class=\"sk-item\"><div class=\"sk-estimator sk-toggleable\"><input class=\"sk-toggleable__control sk-hidden--visually\" id=\"sk-estimator-id-16\" type=\"checkbox\" ><label for=\"sk-estimator-id-16\" class=\"sk-toggleable__label sk-toggleable__label-arrow\">Mapper</label><div class=\"sk-toggleable__content\"><pre>Mapper(mappings={&#x27;Average&#x27;: 2, &#x27;High&#x27;: 3, &#x27;Low&#x27;: 1},\n",
       "       variables=[&#x27;Spending_Score&#x27;])</pre></div></div></div><div class=\"sk-item\"><div class=\"sk-estimator sk-toggleable\"><input class=\"sk-toggleable__control sk-hidden--visually\" id=\"sk-estimator-id-17\" type=\"checkbox\" ><label for=\"sk-estimator-id-17\" class=\"sk-toggleable__label sk-toggleable__label-arrow\">MinMaxScaler</label><div class=\"sk-toggleable__content\"><pre>MinMaxScaler()</pre></div></div></div><div class=\"sk-item sk-dashed-wrapped\"><div class=\"sk-label-container\"><div class=\"sk-label sk-toggleable\"><input class=\"sk-toggleable__control sk-hidden--visually\" id=\"sk-estimator-id-18\" type=\"checkbox\" ><label for=\"sk-estimator-id-18\" class=\"sk-toggleable__label sk-toggleable__label-arrow\">estimator: OneVsRestClassifier</label><div class=\"sk-toggleable__content\"><pre>OneVsRestClassifier(estimator=RandomForestClassifier(random_state=35))</pre></div></div></div><div class=\"sk-parallel\"><div class=\"sk-parallel-item\"><div class=\"sk-item\"><div class=\"sk-label-container\"><div class=\"sk-label sk-toggleable\"><input class=\"sk-toggleable__control sk-hidden--visually\" id=\"sk-estimator-id-19\" type=\"checkbox\" ><label for=\"sk-estimator-id-19\" class=\"sk-toggleable__label sk-toggleable__label-arrow\">estimator: RandomForestClassifier</label><div class=\"sk-toggleable__content\"><pre>RandomForestClassifier(random_state=35)</pre></div></div></div><div class=\"sk-serial\"><div class=\"sk-item\"><div class=\"sk-estimator sk-toggleable\"><input class=\"sk-toggleable__control sk-hidden--visually\" id=\"sk-estimator-id-20\" type=\"checkbox\" ><label for=\"sk-estimator-id-20\" class=\"sk-toggleable__label sk-toggleable__label-arrow\">RandomForestClassifier</label><div class=\"sk-toggleable__content\"><pre>RandomForestClassifier(random_state=35)</pre></div></div></div></div></div></div></div></div></div></div></div></div>"
      ],
      "text/plain": [
       "TrainingPipeline(steps=[('mean_imputation',\n",
       "                         MeanMedianImputer(imputation_method='mean',\n",
       "                                           variables=['Work_Experience',\n",
       "                                                      'Family_Size'])),\n",
       "                        ('frequent_imputation',\n",
       "                         CategoricalImputer(imputation_method='frequent',\n",
       "                                            variables=['Ever_Married',\n",
       "                                                       'Graduated',\n",
       "                                                       'Profession',\n",
       "                                                       'Var_1'])),\n",
       "                        ('binary_encoding',\n",
       "                         OneHotEncoder(drop_last_binary=True,\n",
       "                                       variables=['Gender', 'Ever_Married',\n",
       "                                                  'Graduated'])),\n",
       "                        ('countfreq',\n",
       "                         CountFrequencyEncoder(encoding_method='frequency',\n",
       "                                               variables=['Profession',\n",
       "                                                          'Var_1'])),\n",
       "                        ('mapper_spending_score',\n",
       "                         Mapper(mappings={'Average': 2, 'High': 3, 'Low': 1},\n",
       "                                variables=['Spending_Score'])),\n",
       "                        ('scaler', MinMaxScaler()),\n",
       "                        ('estimator',\n",
       "                         OneVsRestClassifier(estimator=RandomForestClassifier(random_state=35)))])"
      ]
     },
     "execution_count": 20,
     "metadata": {},
     "output_type": "execute_result"
    }
   ],
   "source": [
    "# Instantiate the TrainingPipeline class with all the Pipeline Steps \n",
    "# (which now already includes the final model.fit() step)\n",
    "train_pipeline = TrainingPipeline(steps=PIPESTEPS)\n",
    "train_pipeline.fit(X_train, y_train)"
   ]
  },
  {
   "cell_type": "markdown",
   "id": "9f514d8e",
   "metadata": {},
   "source": [
    "### Log Trained Model"
   ]
  },
  {
   "cell_type": "markdown",
   "id": "2a686244",
   "metadata": {},
   "source": [
    "If hyper_parameter_tuning was set to False, the model is trained based on user supplied input and then logged into mlflow. If hyper_parameter_tuning is True, a RandomSearch is performed based on the grid parameters supplied by user and a final model is trained with the best parameters found. The final tuned model is then logged into mlflow tracking. "
   ]
  },
  {
   "cell_type": "code",
   "execution_count": 21,
   "id": "95d7fc5b",
   "metadata": {
    "scrolled": true
   },
   "outputs": [
    {
     "name": "stdout",
     "output_type": "stream",
     "text": [
      "Model Accuracy: 0.4919454770755886\n",
      "=============== Classification Report ==================================\n",
      "              precision    recall  f1-score   support\n",
      "\n",
      "           A      0.400     0.472     0.433       375\n",
      "           B      0.409     0.339     0.371       386\n",
      "           C      0.499     0.493     0.496       361\n",
      "           D      0.623     0.626     0.625       492\n",
      "\n",
      "    accuracy                          0.492      1614\n",
      "   macro avg      0.483     0.483     0.481      1614\n",
      "weighted avg      0.492     0.492     0.491      1614\n",
      "\n"
     ]
    },
    {
     "name": "stderr",
     "output_type": "stream",
     "text": [
      "c:\\Users\\aaboa\\Desktop\\Exxon\\code-assessment\\Final\\End-to-End-ML-Pipeline\\custseg\\lib\\site-packages\\mlflow\\models\\signature.py:129: UserWarning: Hint: Inferred schema contains integer column(s). Integer columns in Python cannot represent missing values. If your input data contains missing values at inference time, it will be encoded as floats and will cause a schema enforcement error. The best way to avoid this problem is to infer the model schema based on a realistic data sample (training dataset) that includes missing values. Alternatively, you can declare integer columns as doubles (float64) whenever these columns may have missing values. See `Handling Integers With Missing Values <https://www.mlflow.org/docs/latest/models.html#handling-integers-with-missing-values>`_ for more details.\n",
      "  inputs = _infer_schema(model_input)\n"
     ]
    },
    {
     "name": "stdout",
     "output_type": "stream",
     "text": [
      "Run - Train-Run-Sat-Sep-24-14:39:19-2022 is logged to Experiment - Exxon_Model\n"
     ]
    },
    {
     "data": {
      "image/png": "[encoded data removed]",
      "text/plain": [
       "<Figure size 640x480 with 2 Axes>"
      ]
     },
     "metadata": {},
     "output_type": "display_data"
    }
   ],
   "source": [
    "trained_pipeline_save_path = r'./Trained_Pipeline.pkl'\n",
    "\n",
    "if hyper_parameter_tuning:\n",
    "    \n",
    "    def format_best_params_keys(best_param_dict):\n",
    "        '''\n",
    "        Helper function to format extra strings in the dictionary keys\n",
    "        due to nested estimator objects inside RandomizedSearchCV\n",
    "        '''\n",
    "        best_params_copy = best_param_dict.copy()\n",
    "        for k,v in best_params_copy.items():\n",
    "            print(k)\n",
    "            best_param_dict[k.split('__')[1]] = v\n",
    "            #print(best_params)\n",
    "            del best_param_dict[k]\n",
    "        return best_param_dict\n",
    "    \n",
    "     \n",
    "    print ('Parameter Search Grid: ', param_grid, '\\n')\n",
    "    # print the best parameters\n",
    "    best_params = train_pipeline.get_params()['estimator'].best_params_\n",
    "    print ('Best Parameters: ', best_params, ' \\n')\n",
    "    best_params = format_best_params_keys(best_params)\n",
    "    \n",
    "    if training_algo == \"RandomForestClassifier\":\n",
    "        # Get the best parameters from trained pipeline estimator object\n",
    "        n_estimators = best_params['n_estimators']\n",
    "        min_samples_split = best_params['min_samples_split']\n",
    "        min_samples_leaf = best_params['min_samples_leaf']\n",
    "        max_features = best_params['max_features']\n",
    "        max_depth = best_params['max_depth']\n",
    "        bootstrap = best_params['bootstrap']\n",
    "        \n",
    "        # Configure a New Model based on best parameters\n",
    "        tuned_model = OneVsRestClassifier(\n",
    "                                        RandomForestClassifier(n_estimators = n_estimators, \n",
    "                                                    min_samples_split = min_samples_split,\n",
    "                                                     min_samples_leaf= min_samples_leaf, \n",
    "                                                     max_features = max_features,\n",
    "                                                     max_depth= max_depth, bootstrap=bootstrap)\n",
    "                                        )\n",
    "        \n",
    "        # Make a dictionary of the best run parameters for logging into Mlflow\n",
    "        run_parameters = {\"n_estimators\" : n_estimators,\n",
    "                            \"min_samples_split\" : min_samples_split,\n",
    "                            \"min_samples_leaf\" : min_samples_leaf,\n",
    "                            \"max_features\" : max_features,\n",
    "                            \"max_depth\" : max_depth,\n",
    "                            \"bootstrap\" : bootstrap}\n",
    "    \n",
    "    if training_algo == \"KerasClassifier\":\n",
    "        # Get the best parameters from trained pipeline estimator object\n",
    "        \n",
    "         # Configure a New Model based on best parameters\n",
    "        tuned_model = None\n",
    "          \n",
    "    \n",
    "    # Adding the last step in the training Pipeline\n",
    "    _, PIPESTEPS = pipe_configuration() # Load the Preprocessing Pipeline Steps\n",
    "    PIPESTEPS.append(('estimator',tuned_model))  # Add the estimator step\n",
    "    train_pipeline_tuned = TrainingPipeline(steps=PIPESTEPS)\n",
    "    # Train a new model based on the best parameters from hyperparamter search\n",
    "    train_pipeline_tuned.fit(X_train, y_train)\n",
    "    joblib.dump(train_pipeline_tuned, trained_pipeline_save_path)\n",
    "    train_pipeline_tuned.log_model('estimator', X_test, y_test, trained_pipeline_save_path,\n",
    "                                   segmentation_labels, experiment_name, \n",
    "                                   run_name, run_params=run_parameters)\n",
    "    \n",
    "else:\n",
    "    # if no hyper parameter tuning, log trained model right away\n",
    "    joblib.dump(train_pipeline,trained_pipeline_save_path)\n",
    "    train_pipeline.log_model('estimator', X_test, y_test, trained_pipeline_save_path,\n",
    "                             segmentation_labels, experiment_name, \n",
    "                             run_name, run_params=run_parameters)"
   ]
  },
  {
   "cell_type": "code",
   "execution_count": null,
   "id": "5455feee",
   "metadata": {},
   "outputs": [],
   "source": []
  }
 ],
 "metadata": {
  "kernelspec": {
   "display_name": "Python 3.10.7 ('custseg': venv)",
   "language": "python",
   "name": "python3"
  },
  "language_info": {
   "codemirror_mode": {
    "name": "ipython",
    "version": 3
   },
   "file_extension": ".py",
   "mimetype": "text/x-python",
   "name": "python",
   "nbconvert_exporter": "python",
   "pygments_lexer": "ipython3",
   "version": "3.10.7"
  },
  "vscode": {
   "interpreter": {
    "hash": "5a5a49c04e937bf59061b7f51d23e143dfd4506398ddd4c4c45f9177b0376566"
   }
  }
 },
 "nbformat": 4,
 "nbformat_minor": 5
}
